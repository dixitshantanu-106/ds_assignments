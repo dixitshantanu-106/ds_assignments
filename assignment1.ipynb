{
 "cells": [
  {
   "cell_type": "markdown",
   "id": "arctic-arlington",
   "metadata": {},
   "source": [
    "Write a program to print all perfect numbers between 1 to n"
   ]
  },
  {
   "cell_type": "code",
   "execution_count": 8,
   "id": "incredible-payroll",
   "metadata": {},
   "outputs": [
    {
     "name": "stdout",
     "output_type": "stream",
     "text": [
      "10000\n",
      "6\n",
      "28\n",
      "496\n",
      "8128\n"
     ]
    }
   ],
   "source": [
    "def oneToN(n):\n",
    "    for i in range(1, n+1):\n",
    "        if perfectNum(i):\n",
    "            print(i)\n",
    "\n",
    "\n",
    "def perfectNum(n):\n",
    "    divisor = []\n",
    "    for i in range(1, (n//2)+1):\n",
    "        if n % i == 0:\n",
    "            divisor.append(i)\n",
    "    if sum(divisor) == n:\n",
    "        return True\n",
    "    else: return False\n",
    "\n",
    "\n",
    "    \n",
    "n = int(input())\n",
    "oneToN(n)"
   ]
  },
  {
   "cell_type": "markdown",
   "id": "different-stations",
   "metadata": {},
   "source": [
    "Find the total occurrences of each digit in a number using a function"
   ]
  },
  {
   "cell_type": "code",
   "execution_count": 9,
   "id": "hollow-basket",
   "metadata": {},
   "outputs": [
    {
     "name": "stdout",
     "output_type": "stream",
     "text": [
      "5643215\n",
      "{'5': 2, '6': 1, '4': 1, '3': 1, '2': 1, '1': 1}\n"
     ]
    }
   ],
   "source": [
    "def findTotalOcc(n):\n",
    "    string = str(n)\n",
    "    counts = {i: string.count(i) for i in string}\n",
    "    print(counts)\n",
    "    \n",
    "findTotalOcc(int(input()))"
   ]
  }
 ],
 "metadata": {
  "kernelspec": {
   "display_name": "Python 3",
   "language": "python",
   "name": "python3"
  },
  "language_info": {
   "codemirror_mode": {
    "name": "ipython",
    "version": 3
   },
   "file_extension": ".py",
   "mimetype": "text/x-python",
   "name": "python",
   "nbconvert_exporter": "python",
   "pygments_lexer": "ipython3",
   "version": "3.8.10"
  }
 },
 "nbformat": 4,
 "nbformat_minor": 5
}
